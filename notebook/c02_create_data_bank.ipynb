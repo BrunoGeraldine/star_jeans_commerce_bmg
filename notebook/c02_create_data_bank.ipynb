{
 "cells": [
  {
   "cell_type": "markdown",
   "id": "bda81b4b",
   "metadata": {},
   "source": [
    "## Questão de Negócio\n",
    "\n",
    "A empresa Star Jeans! Eduardo e Marcelo são dois brasileiros, amigos e sócios de empreendi-\n",
    "mento. Depois de vários negócio bem sucedidos, eles estão planejando entrar no mercado de moda\n",
    "dos USA como um modelo de negócio do tipo E-commerce.\n",
    "A idéia inicial é entrar no mercado com apenas um produto e para um público específico, no caso\n",
    "o produto seria calças Jenas para o público masculino. O objetivo é manter o custo de operação\n",
    "baixo e escalar a medida que forem conseguindo clientes.\n",
    "Porém, mesmo com o produto de entrada e a audiência definidos, os dois sócios não tem experiência\n",
    "nesse mercado de moda e portanto não sabem definir coisas básicas como preço, o tipo de calça e\n",
    "o material para a fabricação de cada peça.\n",
    "Assim, os dois sócios contrataram uma consultoria de Ciência de Dados para responder as seguintes\n",
    "perguntas: \n",
    "\n",
    "1. Qual o melhor preço de venda para as calças? \n",
    "\n",
    "2. Quantos tipos de calças e suas\n",
    "cores para o produto inicial? \n",
    "\n",
    "3. Quais as matérias-prima necessárias para confeccionar as calças?\n",
    "\n",
    "Obs.: As principais concorrentes da empresa Start Jeans são as americadas H&M e Macys."
   ]
  },
  {
   "cell_type": "markdown",
   "id": "d7734065",
   "metadata": {},
   "source": [
    "# Import Librarys"
   ]
  },
  {
   "cell_type": "code",
   "execution_count": 30,
   "id": "e138c142",
   "metadata": {
    "ExecuteTime": {
     "end_time": "2022-04-26T18:00:05.039655Z",
     "start_time": "2022-04-26T18:00:02.935191Z"
    }
   },
   "outputs": [
    {
     "name": "stdout",
     "output_type": "stream",
     "text": [
      "\u001b[31mERROR: Could not find a version that satisfies the requirement sqlite3 (from versions: none)\u001b[0m\r\n",
      "\u001b[31mERROR: No matching distribution found for sqlite3\u001b[0m\r\n"
     ]
    }
   ],
   "source": [
    "!pip3 install sqlite3"
   ]
  },
  {
   "cell_type": "code",
   "execution_count": 31,
   "id": "33f97e7f",
   "metadata": {
    "ExecuteTime": {
     "end_time": "2022-04-26T18:00:19.797463Z",
     "start_time": "2022-04-26T18:00:19.789035Z"
    }
   },
   "outputs": [],
   "source": [
    "import sqlite3\n",
    "import pandas as pd\n",
    "\n",
    "\n",
    "from sqlalchemy import create_engine"
   ]
  },
  {
   "cell_type": "code",
   "execution_count": 50,
   "id": "ea201849",
   "metadata": {
    "ExecuteTime": {
     "end_time": "2022-04-26T18:16:02.454236Z",
     "start_time": "2022-04-26T18:16:02.444118Z"
    }
   },
   "outputs": [],
   "source": [
    "df1 = pd.read_csv( '../data/data_raw_clean.csv')"
   ]
  },
  {
   "cell_type": "code",
   "execution_count": 32,
   "id": "0f05f092",
   "metadata": {
    "ExecuteTime": {
     "end_time": "2022-04-26T18:01:26.193373Z",
     "start_time": "2022-04-26T18:01:26.184218Z"
    }
   },
   "outputs": [
    {
     "data": {
      "text/plain": [
       "Unnamed: 0            int64\n",
       "product_id            int64\n",
       "product_category     object\n",
       "product_name         object\n",
       "product_price       float64\n",
       "scrapy_datetime      object\n",
       "style_id              int64\n",
       "color_id              int64\n",
       "color_name           object\n",
       "fit                  object\n",
       "size_number         float64\n",
       "size_model           object\n",
       "cotton              float64\n",
       "spandex             float64\n",
       "polyester           float64\n",
       "elastomultiester    float64\n",
       "dtype: object"
      ]
     },
     "execution_count": 32,
     "metadata": {},
     "output_type": "execute_result"
    }
   ],
   "source": [
    "df.dtypes"
   ]
  },
  {
   "cell_type": "code",
   "execution_count": 51,
   "id": "1a466001",
   "metadata": {
    "ExecuteTime": {
     "end_time": "2022-04-26T18:16:07.794339Z",
     "start_time": "2022-04-26T18:16:07.773278Z"
    }
   },
   "outputs": [
    {
     "data": {
      "text/html": [
       "<div>\n",
       "<style scoped>\n",
       "    .dataframe tbody tr th:only-of-type {\n",
       "        vertical-align: middle;\n",
       "    }\n",
       "\n",
       "    .dataframe tbody tr th {\n",
       "        vertical-align: top;\n",
       "    }\n",
       "\n",
       "    .dataframe thead th {\n",
       "        text-align: right;\n",
       "    }\n",
       "</style>\n",
       "<table border=\"1\" class=\"dataframe\">\n",
       "  <thead>\n",
       "    <tr style=\"text-align: right;\">\n",
       "      <th></th>\n",
       "      <th>Unnamed: 0</th>\n",
       "      <th>product_id</th>\n",
       "      <th>product_category</th>\n",
       "      <th>product_name</th>\n",
       "      <th>product_price</th>\n",
       "      <th>scrapy_datetime</th>\n",
       "      <th>style_id</th>\n",
       "      <th>color_id</th>\n",
       "      <th>color_name</th>\n",
       "      <th>fit</th>\n",
       "      <th>size_number</th>\n",
       "      <th>size_model</th>\n",
       "      <th>cotton</th>\n",
       "      <th>spandex</th>\n",
       "      <th>polyester</th>\n",
       "      <th>elastomultiester</th>\n",
       "    </tr>\n",
       "  </thead>\n",
       "  <tbody>\n",
       "    <tr>\n",
       "      <th>0</th>\n",
       "      <td>0</td>\n",
       "      <td>1024256001</td>\n",
       "      <td>men_jeans_slim</td>\n",
       "      <td>slim_jeans</td>\n",
       "      <td>19.99</td>\n",
       "      <td>2022-04-19 13:17:23</td>\n",
       "      <td>1024256</td>\n",
       "      <td>1</td>\n",
       "      <td>denim_blue</td>\n",
       "      <td>slim_fit</td>\n",
       "      <td>188.0</td>\n",
       "      <td>size 31/32</td>\n",
       "      <td>0.99</td>\n",
       "      <td>0.01</td>\n",
       "      <td>0.0</td>\n",
       "      <td>0.0</td>\n",
       "    </tr>\n",
       "    <tr>\n",
       "      <th>1</th>\n",
       "      <td>1</td>\n",
       "      <td>1024256002</td>\n",
       "      <td>men_jeans_slim</td>\n",
       "      <td>slim_jeans</td>\n",
       "      <td>19.99</td>\n",
       "      <td>2022-04-19 13:17:23</td>\n",
       "      <td>1024256</td>\n",
       "      <td>2</td>\n",
       "      <td>denim_blue</td>\n",
       "      <td>slim_fit</td>\n",
       "      <td>188.0</td>\n",
       "      <td>size 31/32</td>\n",
       "      <td>0.99</td>\n",
       "      <td>0.01</td>\n",
       "      <td>0.0</td>\n",
       "      <td>0.0</td>\n",
       "    </tr>\n",
       "    <tr>\n",
       "      <th>2</th>\n",
       "      <td>2</td>\n",
       "      <td>938875002</td>\n",
       "      <td>men_jeans_slim</td>\n",
       "      <td>slim_tapered_jeans</td>\n",
       "      <td>39.99</td>\n",
       "      <td>2022-04-19 13:17:23</td>\n",
       "      <td>938875</td>\n",
       "      <td>2</td>\n",
       "      <td>light_denim_blue</td>\n",
       "      <td>slim_fit</td>\n",
       "      <td>187.0</td>\n",
       "      <td>size 31/32</td>\n",
       "      <td>0.98</td>\n",
       "      <td>0.02</td>\n",
       "      <td>0.0</td>\n",
       "      <td>0.0</td>\n",
       "    </tr>\n",
       "    <tr>\n",
       "      <th>3</th>\n",
       "      <td>3</td>\n",
       "      <td>938875002</td>\n",
       "      <td>men_jeans_slim</td>\n",
       "      <td>slim_tapered_jeans</td>\n",
       "      <td>39.99</td>\n",
       "      <td>2022-04-19 13:17:23</td>\n",
       "      <td>938875</td>\n",
       "      <td>2</td>\n",
       "      <td>white</td>\n",
       "      <td>slim_fit</td>\n",
       "      <td>187.0</td>\n",
       "      <td>size 31/32</td>\n",
       "      <td>0.98</td>\n",
       "      <td>0.02</td>\n",
       "      <td>0.0</td>\n",
       "      <td>0.0</td>\n",
       "    </tr>\n",
       "    <tr>\n",
       "      <th>4</th>\n",
       "      <td>4</td>\n",
       "      <td>938875002</td>\n",
       "      <td>men_jeans_slim</td>\n",
       "      <td>slim_tapered_jeans</td>\n",
       "      <td>39.99</td>\n",
       "      <td>2022-04-19 13:17:23</td>\n",
       "      <td>938875</td>\n",
       "      <td>2</td>\n",
       "      <td>dark_gray</td>\n",
       "      <td>slim_fit</td>\n",
       "      <td>187.0</td>\n",
       "      <td>size 31/32</td>\n",
       "      <td>0.98</td>\n",
       "      <td>0.02</td>\n",
       "      <td>0.0</td>\n",
       "      <td>0.0</td>\n",
       "    </tr>\n",
       "  </tbody>\n",
       "</table>\n",
       "</div>"
      ],
      "text/plain": [
       "   Unnamed: 0  product_id product_category        product_name  product_price  \\\n",
       "0           0  1024256001   men_jeans_slim          slim_jeans          19.99   \n",
       "1           1  1024256002   men_jeans_slim          slim_jeans          19.99   \n",
       "2           2   938875002   men_jeans_slim  slim_tapered_jeans          39.99   \n",
       "3           3   938875002   men_jeans_slim  slim_tapered_jeans          39.99   \n",
       "4           4   938875002   men_jeans_slim  slim_tapered_jeans          39.99   \n",
       "\n",
       "       scrapy_datetime  style_id  color_id        color_name       fit  \\\n",
       "0  2022-04-19 13:17:23   1024256         1        denim_blue  slim_fit   \n",
       "1  2022-04-19 13:17:23   1024256         2        denim_blue  slim_fit   \n",
       "2  2022-04-19 13:17:23    938875         2  light_denim_blue  slim_fit   \n",
       "3  2022-04-19 13:17:23    938875         2             white  slim_fit   \n",
       "4  2022-04-19 13:17:23    938875         2         dark_gray  slim_fit   \n",
       "\n",
       "   size_number  size_model  cotton  spandex  polyester  elastomultiester  \n",
       "0        188.0  size 31/32    0.99     0.01        0.0               0.0  \n",
       "1        188.0  size 31/32    0.99     0.01        0.0               0.0  \n",
       "2        187.0  size 31/32    0.98     0.02        0.0               0.0  \n",
       "3        187.0  size 31/32    0.98     0.02        0.0               0.0  \n",
       "4        187.0  size 31/32    0.98     0.02        0.0               0.0  "
      ]
     },
     "execution_count": 51,
     "metadata": {},
     "output_type": "execute_result"
    }
   ],
   "source": [
    "df1.head()"
   ]
  },
  {
   "cell_type": "markdown",
   "id": "c11ae13d",
   "metadata": {},
   "source": [
    "## Query Creating"
   ]
  },
  {
   "cell_type": "code",
   "execution_count": 71,
   "id": "b99e2351",
   "metadata": {
    "ExecuteTime": {
     "end_time": "2022-04-26T18:26:12.290236Z",
     "start_time": "2022-04-26T18:26:12.283755Z"
    }
   },
   "outputs": [],
   "source": [
    "query_showroom_schema = \"\"\"\n",
    "    CREATE TABLE showroom (\n",
    "        product_id        INTEGER,\n",
    "        product_category  TEXT,\n",
    "        product_name      TEXT,\n",
    "        product_price     REAL,\n",
    "        scrapy_datetime   TEXT,\n",
    "        style_id          INTEGER,\n",
    "        color_id          INTEGER,\n",
    "        color_name        TEXT,\n",
    "        fit               TEXT,\n",
    "        size_number       REAL,\n",
    "        size_model        TEXT,\n",
    "        cotton            REAL,\n",
    "        spandex           REAL,\n",
    "        polyester         REAL,\n",
    "        elastomultiester  REAL    \n",
    "    )\n",
    "\"\"\""
   ]
  },
  {
   "cell_type": "markdown",
   "id": "9efc4076",
   "metadata": {},
   "source": [
    "# Creating to Data Bank"
   ]
  },
  {
   "cell_type": "code",
   "execution_count": 72,
   "id": "b537a0cd",
   "metadata": {
    "ExecuteTime": {
     "end_time": "2022-04-26T18:26:14.158130Z",
     "start_time": "2022-04-26T18:26:14.146715Z"
    }
   },
   "outputs": [],
   "source": [
    "# Conect to dataset\n",
    "conn = sqlite3.connect ('starjeans_db.sqlite')\n",
    "cursor = conn.execute(query_showroom_schema)\n",
    "conn.commit()\n",
    "conn.close()"
   ]
  },
  {
   "cell_type": "code",
   "execution_count": 73,
   "id": "0eaae073",
   "metadata": {
    "ExecuteTime": {
     "end_time": "2022-04-26T18:26:14.974939Z",
     "start_time": "2022-04-26T18:26:14.969644Z"
    }
   },
   "outputs": [],
   "source": [
    "# rm hm_db.sqlite #→ remove o banco de dados"
   ]
  },
  {
   "cell_type": "markdown",
   "id": "2a71ea1a",
   "metadata": {},
   "source": [
    "# Read to db"
   ]
  },
  {
   "cell_type": "code",
   "execution_count": 74,
   "id": "f7888a14",
   "metadata": {
    "ExecuteTime": {
     "end_time": "2022-04-26T18:26:16.214371Z",
     "start_time": "2022-04-26T18:26:16.208819Z"
    }
   },
   "outputs": [],
   "source": [
    "from sqlalchemy import create_engine"
   ]
  },
  {
   "cell_type": "code",
   "execution_count": 85,
   "id": "c773437c",
   "metadata": {
    "ExecuteTime": {
     "end_time": "2022-04-26T18:31:53.369953Z",
     "start_time": "2022-04-26T18:31:53.361329Z"
    }
   },
   "outputs": [],
   "source": [
    "conn = create_engine( 'sqlite:///starjeans_db.sqlite', echo=False )"
   ]
  },
  {
   "cell_type": "code",
   "execution_count": 86,
   "id": "b7c2575b",
   "metadata": {
    "ExecuteTime": {
     "end_time": "2022-04-26T18:31:54.301614Z",
     "start_time": "2022-04-26T18:31:54.273677Z"
    }
   },
   "outputs": [
    {
     "data": {
      "text/html": [
       "<div>\n",
       "<style scoped>\n",
       "    .dataframe tbody tr th:only-of-type {\n",
       "        vertical-align: middle;\n",
       "    }\n",
       "\n",
       "    .dataframe tbody tr th {\n",
       "        vertical-align: top;\n",
       "    }\n",
       "\n",
       "    .dataframe thead th {\n",
       "        text-align: right;\n",
       "    }\n",
       "</style>\n",
       "<table border=\"1\" class=\"dataframe\">\n",
       "  <thead>\n",
       "    <tr style=\"text-align: right;\">\n",
       "      <th></th>\n",
       "      <th>product_id</th>\n",
       "      <th>product_category</th>\n",
       "      <th>product_name</th>\n",
       "      <th>product_price</th>\n",
       "      <th>scrapy_datetime</th>\n",
       "      <th>style_id</th>\n",
       "      <th>color_id</th>\n",
       "      <th>color_name</th>\n",
       "      <th>fit</th>\n",
       "      <th>size_number</th>\n",
       "      <th>size_model</th>\n",
       "      <th>cotton</th>\n",
       "      <th>spandex</th>\n",
       "      <th>polyester</th>\n",
       "      <th>elastomultiester</th>\n",
       "    </tr>\n",
       "  </thead>\n",
       "  <tbody>\n",
       "    <tr>\n",
       "      <th>0</th>\n",
       "      <td>1024256001</td>\n",
       "      <td>men_jeans_slim</td>\n",
       "      <td>slim_jeans</td>\n",
       "      <td>19.99</td>\n",
       "      <td>2022-04-19 13:17:23</td>\n",
       "      <td>1024256</td>\n",
       "      <td>1</td>\n",
       "      <td>denim_blue</td>\n",
       "      <td>slim_fit</td>\n",
       "      <td>188.0</td>\n",
       "      <td>size 31/32</td>\n",
       "      <td>0.99</td>\n",
       "      <td>0.01</td>\n",
       "      <td>0.0</td>\n",
       "      <td>0.0</td>\n",
       "    </tr>\n",
       "    <tr>\n",
       "      <th>1</th>\n",
       "      <td>1024256002</td>\n",
       "      <td>men_jeans_slim</td>\n",
       "      <td>slim_jeans</td>\n",
       "      <td>19.99</td>\n",
       "      <td>2022-04-19 13:17:23</td>\n",
       "      <td>1024256</td>\n",
       "      <td>2</td>\n",
       "      <td>denim_blue</td>\n",
       "      <td>slim_fit</td>\n",
       "      <td>188.0</td>\n",
       "      <td>size 31/32</td>\n",
       "      <td>0.99</td>\n",
       "      <td>0.01</td>\n",
       "      <td>0.0</td>\n",
       "      <td>0.0</td>\n",
       "    </tr>\n",
       "    <tr>\n",
       "      <th>2</th>\n",
       "      <td>938875002</td>\n",
       "      <td>men_jeans_slim</td>\n",
       "      <td>slim_tapered_jeans</td>\n",
       "      <td>39.99</td>\n",
       "      <td>2022-04-19 13:17:23</td>\n",
       "      <td>938875</td>\n",
       "      <td>2</td>\n",
       "      <td>light_denim_blue</td>\n",
       "      <td>slim_fit</td>\n",
       "      <td>187.0</td>\n",
       "      <td>size 31/32</td>\n",
       "      <td>0.98</td>\n",
       "      <td>0.02</td>\n",
       "      <td>0.0</td>\n",
       "      <td>0.0</td>\n",
       "    </tr>\n",
       "    <tr>\n",
       "      <th>3</th>\n",
       "      <td>938875002</td>\n",
       "      <td>men_jeans_slim</td>\n",
       "      <td>slim_tapered_jeans</td>\n",
       "      <td>39.99</td>\n",
       "      <td>2022-04-19 13:17:23</td>\n",
       "      <td>938875</td>\n",
       "      <td>2</td>\n",
       "      <td>white</td>\n",
       "      <td>slim_fit</td>\n",
       "      <td>187.0</td>\n",
       "      <td>size 31/32</td>\n",
       "      <td>0.98</td>\n",
       "      <td>0.02</td>\n",
       "      <td>0.0</td>\n",
       "      <td>0.0</td>\n",
       "    </tr>\n",
       "    <tr>\n",
       "      <th>4</th>\n",
       "      <td>938875002</td>\n",
       "      <td>men_jeans_slim</td>\n",
       "      <td>slim_tapered_jeans</td>\n",
       "      <td>39.99</td>\n",
       "      <td>2022-04-19 13:17:23</td>\n",
       "      <td>938875</td>\n",
       "      <td>2</td>\n",
       "      <td>dark_gray</td>\n",
       "      <td>slim_fit</td>\n",
       "      <td>187.0</td>\n",
       "      <td>size 31/32</td>\n",
       "      <td>0.98</td>\n",
       "      <td>0.02</td>\n",
       "      <td>0.0</td>\n",
       "      <td>0.0</td>\n",
       "    </tr>\n",
       "  </tbody>\n",
       "</table>\n",
       "</div>"
      ],
      "text/plain": [
       "   product_id product_category        product_name  product_price  \\\n",
       "0  1024256001   men_jeans_slim          slim_jeans          19.99   \n",
       "1  1024256002   men_jeans_slim          slim_jeans          19.99   \n",
       "2   938875002   men_jeans_slim  slim_tapered_jeans          39.99   \n",
       "3   938875002   men_jeans_slim  slim_tapered_jeans          39.99   \n",
       "4   938875002   men_jeans_slim  slim_tapered_jeans          39.99   \n",
       "\n",
       "       scrapy_datetime  style_id  color_id        color_name       fit  \\\n",
       "0  2022-04-19 13:17:23   1024256         1        denim_blue  slim_fit   \n",
       "1  2022-04-19 13:17:23   1024256         2        denim_blue  slim_fit   \n",
       "2  2022-04-19 13:17:23    938875         2  light_denim_blue  slim_fit   \n",
       "3  2022-04-19 13:17:23    938875         2             white  slim_fit   \n",
       "4  2022-04-19 13:17:23    938875         2         dark_gray  slim_fit   \n",
       "\n",
       "   size_number  size_model  cotton  spandex  polyester  elastomultiester  \n",
       "0        188.0  size 31/32    0.99     0.01        0.0               0.0  \n",
       "1        188.0  size 31/32    0.99     0.01        0.0               0.0  \n",
       "2        187.0  size 31/32    0.98     0.02        0.0               0.0  \n",
       "3        187.0  size 31/32    0.98     0.02        0.0               0.0  \n",
       "4        187.0  size 31/32    0.98     0.02        0.0               0.0  "
      ]
     },
     "execution_count": 86,
     "metadata": {},
     "output_type": "execute_result"
    }
   ],
   "source": [
    "query = \"\"\"\n",
    "    SELECT * FROM showroom_hm\n",
    "\"\"\"\n",
    "df = pd.read_sql_query( query, conn )\n",
    "df.head() #unpopulated table"
   ]
  },
  {
   "cell_type": "code",
   "execution_count": 77,
   "id": "fa100824",
   "metadata": {
    "ExecuteTime": {
     "end_time": "2022-04-26T18:26:26.195818Z",
     "start_time": "2022-04-26T18:26:26.160580Z"
    }
   },
   "outputs": [],
   "source": [
    "# insert data to table\n",
    "data.to_sql( 'showroom', con=conn, if_exists='append', index=False )\n",
    "#Append → preenche a tabela montando linha a linha\n",
    "#Overrite → subsecreve os dados"
   ]
  },
  {
   "cell_type": "code",
   "execution_count": 84,
   "id": "1c9ea932",
   "metadata": {
    "ExecuteTime": {
     "end_time": "2022-04-26T18:31:48.358996Z",
     "start_time": "2022-04-26T18:31:48.346097Z"
    }
   },
   "outputs": [],
   "source": [
    "# commando update (alterar o valor de uma linha)\n",
    "#query = \"\"\"\n",
    "#    UPDATE showroom\n",
    "#    SET product_category = 'tshirt'\n",
    "#    WHERE product_id == 1024256002\n",
    "#\"\"\"\n",
    "\n",
    "#command = DROP\n",
    "#query = \"\"\"\n",
    "#    DROP TABLE showroom\n",
    "#\"\"\"\n",
    "\n",
    "##Command ALTER TABLE (renomear o nome da tabela)\n",
    "#query = \"\"\"\n",
    "#    ALTER TABLE showroom\n",
    "#    RENAME to showroom_hm\n",
    "#\"\"\"\n",
    "\n",
    "# Commando CREATE INDEX (agilidade na busca de dados)\n",
    "query = \"\"\"\n",
    "    CREATE INDEX idx_product_id\n",
    "    ON showroom_hm ( product_id )\n",
    "\"\"\"\n",
    "\n",
    "\n",
    "\n",
    "# Sempre que for executar um update no tabela \n",
    "# primeiro refazer a conexão\n",
    "conn = sqlite3.connect ('starjeans_db.sqlite')\n",
    "cursor = conn.execute(query)\n",
    "conn.commit()\n",
    "conn.close()"
   ]
  },
  {
   "cell_type": "code",
   "execution_count": 78,
   "id": "edb3c5fa",
   "metadata": {
    "ExecuteTime": {
     "end_time": "2022-04-26T18:26:30.174646Z",
     "start_time": "2022-04-26T18:26:30.149754Z"
    }
   },
   "outputs": [
    {
     "data": {
      "text/html": [
       "<div>\n",
       "<style scoped>\n",
       "    .dataframe tbody tr th:only-of-type {\n",
       "        vertical-align: middle;\n",
       "    }\n",
       "\n",
       "    .dataframe tbody tr th {\n",
       "        vertical-align: top;\n",
       "    }\n",
       "\n",
       "    .dataframe thead th {\n",
       "        text-align: right;\n",
       "    }\n",
       "</style>\n",
       "<table border=\"1\" class=\"dataframe\">\n",
       "  <thead>\n",
       "    <tr style=\"text-align: right;\">\n",
       "      <th></th>\n",
       "      <th>product_id</th>\n",
       "      <th>product_category</th>\n",
       "      <th>product_name</th>\n",
       "      <th>product_price</th>\n",
       "      <th>scrapy_datetime</th>\n",
       "      <th>style_id</th>\n",
       "      <th>color_id</th>\n",
       "      <th>color_name</th>\n",
       "      <th>fit</th>\n",
       "      <th>size_number</th>\n",
       "      <th>size_model</th>\n",
       "      <th>cotton</th>\n",
       "      <th>spandex</th>\n",
       "      <th>polyester</th>\n",
       "      <th>elastomultiester</th>\n",
       "    </tr>\n",
       "  </thead>\n",
       "  <tbody>\n",
       "    <tr>\n",
       "      <th>1</th>\n",
       "      <td>1024256002</td>\n",
       "      <td>men_jeans_slim</td>\n",
       "      <td>slim_jeans</td>\n",
       "      <td>19.99</td>\n",
       "      <td>2022-04-19 13:17:23</td>\n",
       "      <td>1024256</td>\n",
       "      <td>2</td>\n",
       "      <td>denim_blue</td>\n",
       "      <td>slim_fit</td>\n",
       "      <td>188.0</td>\n",
       "      <td>size 31/32</td>\n",
       "      <td>0.99</td>\n",
       "      <td>0.01</td>\n",
       "      <td>0.0</td>\n",
       "      <td>0.0</td>\n",
       "    </tr>\n",
       "  </tbody>\n",
       "</table>\n",
       "</div>"
      ],
      "text/plain": [
       "   product_id product_category product_name  product_price  \\\n",
       "1  1024256002   men_jeans_slim   slim_jeans          19.99   \n",
       "\n",
       "       scrapy_datetime  style_id  color_id  color_name       fit  size_number  \\\n",
       "1  2022-04-19 13:17:23   1024256         2  denim_blue  slim_fit        188.0   \n",
       "\n",
       "   size_model  cotton  spandex  polyester  elastomultiester  \n",
       "1  size 31/32    0.99     0.01        0.0               0.0  "
      ]
     },
     "execution_count": 78,
     "metadata": {},
     "output_type": "execute_result"
    }
   ],
   "source": [
    ".head()"
   ]
  },
  {
   "cell_type": "code",
   "execution_count": null,
   "id": "5b520274",
   "metadata": {},
   "outputs": [],
   "source": []
  },
  {
   "cell_type": "code",
   "execution_count": null,
   "id": "c58bf514",
   "metadata": {},
   "outputs": [],
   "source": []
  },
  {
   "cell_type": "code",
   "execution_count": null,
   "id": "8e2f8c26",
   "metadata": {},
   "outputs": [],
   "source": []
  },
  {
   "cell_type": "code",
   "execution_count": null,
   "id": "90a6709a",
   "metadata": {},
   "outputs": [],
   "source": []
  },
  {
   "cell_type": "code",
   "execution_count": null,
   "id": "b108af4a",
   "metadata": {},
   "outputs": [],
   "source": []
  }
 ],
 "metadata": {
  "hide_input": false,
  "kernelspec": {
   "display_name": "Python 3 (ipykernel)",
   "language": "python",
   "name": "python3"
  },
  "language_info": {
   "codemirror_mode": {
    "name": "ipython",
    "version": 3
   },
   "file_extension": ".py",
   "mimetype": "text/x-python",
   "name": "python",
   "nbconvert_exporter": "python",
   "pygments_lexer": "ipython3",
   "version": "3.8.10"
  },
  "nbTranslate": {
   "displayLangs": [
    "*"
   ],
   "hotkey": "alt-t",
   "langInMainMenu": true,
   "sourceLang": "en",
   "targetLang": "fr",
   "useGoogleTranslate": true
  }
 },
 "nbformat": 4,
 "nbformat_minor": 5
}

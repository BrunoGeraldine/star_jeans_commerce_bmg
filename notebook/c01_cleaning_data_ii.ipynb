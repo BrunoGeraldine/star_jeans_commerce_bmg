{
 "cells": [
  {
   "cell_type": "markdown",
   "id": "bda81b4b",
   "metadata": {},
   "source": [
    "## Questão de Negócio\n",
    "\n",
    "A empresa Star Jeans! Eduardo e Marcelo são dois brasileiros, amigos e sócios de empreendi-\n",
    "mento. Depois de vários negócio bem sucedidos, eles estão planejando entrar no mercado de moda\n",
    "dos USA como um modelo de negócio do tipo E-commerce.\n",
    "A idéia inicial é entrar no mercado com apenas um produto e para um público específico, no caso\n",
    "o produto seria calças Jenas para o público masculino. O objetivo é manter o custo de operação\n",
    "baixo e escalar a medida que forem conseguindo clientes.\n",
    "Porém, mesmo com o produto de entrada e a audiência definidos, os dois sócios não tem experiência\n",
    "nesse mercado de moda e portanto não sabem definir coisas básicas como preço, o tipo de calça e\n",
    "o material para a fabricação de cada peça.\n",
    "Assim, os dois sócios contrataram uma consultoria de Ciência de Dados para responder as seguintes\n",
    "perguntas: \n",
    "\n",
    "1. Qual o melhor preço de venda para as calças? \n",
    "\n",
    "2. Quantos tipos de calças e suas\n",
    "cores para o produto inicial? \n",
    "\n",
    "3. Quais as matérias-prima necessárias para confeccionar as calças?\n",
    "\n",
    "Obs.: As principais concorrentes da empresa Start Jeans são as americadas H&M e Macys."
   ]
  },
  {
   "cell_type": "markdown",
   "id": "d7734065",
   "metadata": {},
   "source": [
    "# Import Librarys"
   ]
  },
  {
   "cell_type": "code",
   "execution_count": 1,
   "id": "33f97e7f",
   "metadata": {
    "ExecuteTime": {
     "end_time": "2022-04-19T13:33:06.166326Z",
     "start_time": "2022-04-19T13:33:04.819920Z"
    }
   },
   "outputs": [],
   "source": [
    "import re #regex Library\n",
    "import warnings\n",
    "import inflection\n",
    "\n",
    "import numpy             as np\n",
    "import pandas            as pd\n",
    "import seaborn           as sns\n",
    "import matplotlib.pyplot as plt\n",
    "\n",
    "from IPython.display       import Image\n",
    "from IPython.core.display  import HTML\n",
    "\n",
    "\n",
    "warnings.filterwarnings( 'ignore' )"
   ]
  },
  {
   "cell_type": "markdown",
   "id": "848f6d6c",
   "metadata": {},
   "source": [
    "## Help Function"
   ]
  },
  {
   "cell_type": "code",
   "execution_count": 2,
   "id": "f339cd2e",
   "metadata": {
    "ExecuteTime": {
     "end_time": "2022-04-19T13:33:07.073130Z",
     "start_time": "2022-04-19T13:33:07.059439Z"
    }
   },
   "outputs": [
    {
     "data": {
      "text/html": [
       "<style>.container { width:100% !important; }</style>"
      ],
      "text/plain": [
       "<IPython.core.display.HTML object>"
      ]
     },
     "metadata": {},
     "output_type": "display_data"
    }
   ],
   "source": [
    "def jupyter_settings():\n",
    "    #%matplotlib notebook\n",
    "    #%pylab inline\n",
    "    \n",
    "    plt.style.use( 'bmh' )\n",
    "    plt.rcParams['figure.figsize'] = [25, 12]\n",
    "    plt.rcParams['font.size'] = 24\n",
    "    \n",
    "    display( HTML( '<style>.container { width:100% !important; }</style>') )\n",
    "    pd.options.display.max_columns = None\n",
    "    pd.options.display.max_rows = None\n",
    "    pd.set_option( 'display.expand_frame_repr', False )\n",
    "    \n",
    "    sns.set()\n",
    "    \n",
    "jupyter_settings()"
   ]
  },
  {
   "cell_type": "markdown",
   "id": "c11ae13d",
   "metadata": {},
   "source": [
    "## Load Data"
   ]
  },
  {
   "cell_type": "code",
   "execution_count": 3,
   "id": "7a328402",
   "metadata": {
    "ExecuteTime": {
     "end_time": "2022-04-19T13:33:08.012770Z",
     "start_time": "2022-04-19T13:33:07.994434Z"
    }
   },
   "outputs": [],
   "source": [
    "df = pd.read_csv('../data/data_raw_size.csv')"
   ]
  },
  {
   "cell_type": "code",
   "execution_count": 4,
   "id": "145f44d5",
   "metadata": {
    "ExecuteTime": {
     "end_time": "2022-04-19T13:33:08.669005Z",
     "start_time": "2022-04-19T13:33:08.650594Z"
    }
   },
   "outputs": [
    {
     "data": {
      "text/html": [
       "<div>\n",
       "<style scoped>\n",
       "    .dataframe tbody tr th:only-of-type {\n",
       "        vertical-align: middle;\n",
       "    }\n",
       "\n",
       "    .dataframe tbody tr th {\n",
       "        vertical-align: top;\n",
       "    }\n",
       "\n",
       "    .dataframe thead th {\n",
       "        text-align: right;\n",
       "    }\n",
       "</style>\n",
       "<table border=\"1\" class=\"dataframe\">\n",
       "  <thead>\n",
       "    <tr style=\"text-align: right;\">\n",
       "      <th></th>\n",
       "      <th>Unnamed: 0</th>\n",
       "      <th>product_id</th>\n",
       "      <th>product_category</th>\n",
       "      <th>product_name</th>\n",
       "      <th>product_price</th>\n",
       "      <th>scrapy_datetime</th>\n",
       "      <th>style_id</th>\n",
       "      <th>color_id</th>\n",
       "      <th>color_name</th>\n",
       "      <th>fit</th>\n",
       "      <th>composition</th>\n",
       "      <th>size</th>\n",
       "    </tr>\n",
       "  </thead>\n",
       "  <tbody>\n",
       "    <tr>\n",
       "      <th>164</th>\n",
       "      <td>164</td>\n",
       "      <td>811993036</td>\n",
       "      <td>men_jeans_regular</td>\n",
       "      <td>Regular Jeans</td>\n",
       "      <td>$ 29.99</td>\n",
       "      <td>2022-04-18 17:54:04</td>\n",
       "      <td>811993</td>\n",
       "      <td>36</td>\n",
       "      <td>Denim blue</td>\n",
       "      <td>NaN</td>\n",
       "      <td>NaN</td>\n",
       "      <td>NaN</td>\n",
       "    </tr>\n",
       "  </tbody>\n",
       "</table>\n",
       "</div>"
      ],
      "text/plain": [
       "     Unnamed: 0  product_id   product_category   product_name product_price      scrapy_datetime  style_id  color_id  color_name  fit composition size\n",
       "164         164   811993036  men_jeans_regular  Regular Jeans       $ 29.99  2022-04-18 17:54:04    811993        36  Denim blue  NaN         NaN  NaN"
      ]
     },
     "execution_count": 4,
     "metadata": {},
     "output_type": "execute_result"
    }
   ],
   "source": [
    "df.sample()"
   ]
  },
  {
   "cell_type": "markdown",
   "id": "23de4280",
   "metadata": {},
   "source": [
    "# Rename columns"
   ]
  },
  {
   "cell_type": "code",
   "execution_count": 5,
   "id": "7cb5266f",
   "metadata": {
    "ExecuteTime": {
     "end_time": "2022-04-19T13:33:09.989552Z",
     "start_time": "2022-04-19T13:33:09.984332Z"
    }
   },
   "outputs": [],
   "source": [
    "data = df.copy()"
   ]
  },
  {
   "cell_type": "code",
   "execution_count": 6,
   "id": "424cec2e",
   "metadata": {
    "ExecuteTime": {
     "end_time": "2022-04-19T13:33:10.435958Z",
     "start_time": "2022-04-19T13:33:10.425152Z"
    }
   },
   "outputs": [
    {
     "data": {
      "text/plain": [
       "Index(['Unnamed: 0', 'product_id', 'product_category', 'product_name',\n",
       "       'product_price', 'scrapy_datetime', 'style_id', 'color_id',\n",
       "       'color_name', 'fit', 'composition', 'size'],\n",
       "      dtype='object')"
      ]
     },
     "execution_count": 6,
     "metadata": {},
     "output_type": "execute_result"
    }
   ],
   "source": [
    "data.columns"
   ]
  },
  {
   "cell_type": "markdown",
   "id": "6ee29b31",
   "metadata": {},
   "source": [
    "# Clean to dataframe"
   ]
  },
  {
   "cell_type": "code",
   "execution_count": 7,
   "id": "bf10fcd1",
   "metadata": {
    "ExecuteTime": {
     "end_time": "2022-04-19T13:33:11.370416Z",
     "start_time": "2022-04-19T13:33:11.363062Z"
    }
   },
   "outputs": [
    {
     "data": {
      "text/plain": [
       "(1814, 12)"
      ]
     },
     "execution_count": 7,
     "metadata": {},
     "output_type": "execute_result"
    }
   ],
   "source": [
    "data.shape"
   ]
  },
  {
   "cell_type": "code",
   "execution_count": 8,
   "id": "edaa1d97",
   "metadata": {
    "ExecuteTime": {
     "end_time": "2022-04-19T13:33:11.878114Z",
     "start_time": "2022-04-19T13:33:11.863130Z"
    }
   },
   "outputs": [
    {
     "data": {
      "text/plain": [
       "Unnamed: 0            0\n",
       "product_id            0\n",
       "product_category      0\n",
       "product_name          0\n",
       "product_price         0\n",
       "scrapy_datetime       0\n",
       "style_id              0\n",
       "color_id              0\n",
       "color_name            0\n",
       "fit                 274\n",
       "composition         274\n",
       "size                274\n",
       "dtype: int64"
      ]
     },
     "execution_count": 8,
     "metadata": {},
     "output_type": "execute_result"
    }
   ],
   "source": [
    "df.isna().sum()"
   ]
  },
  {
   "cell_type": "code",
   "execution_count": 9,
   "id": "9451c64a",
   "metadata": {
    "ExecuteTime": {
     "end_time": "2022-04-19T13:33:12.268056Z",
     "start_time": "2022-04-19T13:33:12.253416Z"
    }
   },
   "outputs": [],
   "source": [
    "# product id\n",
    "data['product_id'] = data['product_id'].astype( int )\n",
    "\n",
    "# product category\n",
    "\n",
    "# product name\n",
    "data['product_name'] = data['product_name'].apply( lambda x: x.replace( ' ', '_' ).lower())\n",
    "\n",
    "# product price\n",
    "data['product_price'] = data['product_price'].apply(lambda x: x.replace( '$ ', '' )).astype(float)\n",
    "\n",
    "# scrapy datetime\n",
    "data['scrapy_datetime'] = pd.to_datetime(data['scrapy_datetime'],format='%Y-%m-%d %H:%M:%S' )\n",
    "\n",
    "# style id\n",
    "data['style_id'] = data['style_id'].astype( int )\n",
    "\n",
    "# color id\n",
    "data['color_id'] = data['color_id'].astype( int )\n"
   ]
  },
  {
   "cell_type": "code",
   "execution_count": 10,
   "id": "85bc5976",
   "metadata": {
    "ExecuteTime": {
     "end_time": "2022-04-19T13:33:12.684253Z",
     "start_time": "2022-04-19T13:33:12.676576Z"
    }
   },
   "outputs": [
    {
     "data": {
      "text/plain": [
       "Unnamed: 0                   int64\n",
       "product_id                   int64\n",
       "product_category            object\n",
       "product_name                object\n",
       "product_price              float64\n",
       "scrapy_datetime     datetime64[ns]\n",
       "style_id                     int64\n",
       "color_id                     int64\n",
       "color_name                  object\n",
       "fit                         object\n",
       "composition                 object\n",
       "size                        object\n",
       "dtype: object"
      ]
     },
     "execution_count": 10,
     "metadata": {},
     "output_type": "execute_result"
    }
   ],
   "source": [
    "data.dtypes"
   ]
  },
  {
   "cell_type": "code",
   "execution_count": 11,
   "id": "bb8782b1",
   "metadata": {
    "ExecuteTime": {
     "end_time": "2022-04-19T13:33:13.198430Z",
     "start_time": "2022-04-19T13:33:13.183286Z"
    }
   },
   "outputs": [],
   "source": [
    "#color name\n",
    "data['color_name'] = data['color_name'].apply( lambda x: x.replace(' ', '_' ).replace( '/', '_' ).lower() if pd.notnull( x ) else x )\n",
    "\n",
    "# fit\n",
    "data['fit'] = data['fit'].apply( lambda x: x.replace( ' ', '_' ).lower() if pd.notnull( x ) else x)\n",
    "# quando houver valores nulos, acrescentar o notnull..."
   ]
  },
  {
   "cell_type": "code",
   "execution_count": 12,
   "id": "86020631",
   "metadata": {
    "ExecuteTime": {
     "end_time": "2022-04-19T13:33:13.686133Z",
     "start_time": "2022-04-19T13:33:13.677094Z"
    }
   },
   "outputs": [
    {
     "data": {
      "text/plain": [
       "array(['The model is 185cm/6\\'1\" and wears a size 31/32',\n",
       "       'The model is 189cm/6\\'2\" and wears a size 31/32',\n",
       "       'The model is 180cm/5\\'11\" and wears a size 31/32', nan,\n",
       "       'The model is 187cm/6\\'2\" and wears a size 31/32',\n",
       "       'The model is 186cm/6\\'1\" and wears a size 31/32',\n",
       "       'The model is 188cm/6\\'2\" and wears a size 31/30',\n",
       "       'The model is 187cm/6\\'2\" and wears a size 32/32',\n",
       "       'The model is 183cm/6\\'0\" and wears a size 31/32',\n",
       "       'The model is 189cm/6\\'2\" and wears a size 32/32',\n",
       "       'The model is 187cm/6\\'2\" and wears a size 33/32',\n",
       "       'The model is 182cm/6\\'0\" and wears a size 31',\n",
       "       'The model is 183cm/6\\'0\" and wears a size 32',\n",
       "       'The model is 180cm/5\\'11\" and wears a size 31/30'], dtype=object)"
      ]
     },
     "execution_count": 12,
     "metadata": {},
     "output_type": "execute_result"
    }
   ],
   "source": [
    "data['size'].unique()"
   ]
  },
  {
   "cell_type": "code",
   "execution_count": 13,
   "id": "7b8f2692",
   "metadata": {
    "ExecuteTime": {
     "end_time": "2022-04-19T13:33:14.345932Z",
     "start_time": "2022-04-19T13:33:14.318004Z"
    }
   },
   "outputs": [],
   "source": [
    "# Por razão de agilidade na entrega do primeiro ciclo, assumi o não uso das informações referentes ao tamanho!!!\n",
    "\n",
    "# size number\n",
    "data['size_number'] = data['size'].apply( lambda x: re.search('(\\d+cm)', x ).group(0) if pd.notnull( x ) else x )\n",
    "data['size_number'] = data['size_number'].apply( lambda x: re.search( '(\\d{3})', x).group(0) if pd.notnull( x ) else x ).astype(float)\n",
    "#\n",
    "## size model\n",
    "#data['size_model'] = data['size'].str.extract( '(Size.\\d+|\\d[a-zA-z])' ) (size.\\d{2})|(size.\\d{2}.\\d{2})\n",
    "data['size_model'] = data['size'].str.extract( '(size.\\d{2}.\\d+|size.\\d{2})')"
   ]
  },
  {
   "cell_type": "code",
   "execution_count": 14,
   "id": "711316ca",
   "metadata": {
    "ExecuteTime": {
     "end_time": "2022-04-19T13:33:14.793376Z",
     "start_time": "2022-04-19T13:33:14.784680Z"
    }
   },
   "outputs": [
    {
     "data": {
      "text/plain": [
       "array(['Shell: Cotton 99%, Spandex 1%',\n",
       "       'Pocket lining: Polyester 65%, Cotton 35%', nan,\n",
       "       'Cotton 99%, Spandex 1%', 'Pocket lining: Cotton 100%',\n",
       "       'Pocket lining: Polyester 63%, Cotton 37%', 'Pocket: Cotton 100%',\n",
       "       'Shell: Cotton 100%', 'Cotton 98%, Spandex 2%',\n",
       "       'Lining: Polyester 100%',\n",
       "       'Shell: Cotton 90%, Elastomultiester 8%, Spandex 2%',\n",
       "       'Pocket lining: Polyester 80%, Cotton 20%'], dtype=object)"
      ]
     },
     "execution_count": 14,
     "metadata": {},
     "output_type": "execute_result"
    }
   ],
   "source": [
    "data['composition'].unique()"
   ]
  },
  {
   "cell_type": "code",
   "execution_count": 15,
   "id": "6b202361",
   "metadata": {
    "ExecuteTime": {
     "end_time": "2022-04-19T13:33:15.436942Z",
     "start_time": "2022-04-19T13:33:15.401865Z"
    }
   },
   "outputs": [],
   "source": [
    "# composition\n",
    "# droping lines with pocket and lining materials\n",
    "data = data[~data['composition'].str.contains( 'Pocket lining:', na=False )]\n",
    "#data = data[~data['composition'].str.contains( 'Pocket:', na=False )]\n",
    "data = data[~data['composition'].str.contains( 'Lining:', na=False )]\n",
    "#data = data[~data['composition'].str.contains( 'Shell:', na=False )]\n",
    "\n",
    "# break composition by comma\n",
    "df1 = data['composition'].str.split( ',', expand=True )\n",
    "#\n",
    "## cotton | polyester | Spandex\n",
    "df_ref = pd.DataFrame( index=np.arange( len( data ) ), columns=['cotton', 'spandex', 'elastomultiester'] )\n",
    "#\n",
    "## cotton\n",
    "df_cotton = df1[0]\n",
    "df_cotton.name = 'cotton'\n",
    "df_ref = pd.concat( [df_ref, df_cotton ], axis=1 )\n",
    "df_ref = df_ref.iloc[:, ~df_ref.columns.duplicated( keep='last')]\n",
    "#\n",
    "## spandex\n",
    "df_spandex = df1.loc[df1[1].str.contains( 'Spandex', na=True ), 1]\n",
    "df_spandex.name = 'spandex'\n",
    "df_ref = pd.concat( [df_ref, df_spandex], axis=1 )\n",
    "df_ref = df_ref.iloc[:, ~df_ref.columns.duplicated( keep='last') ]\n",
    "\n",
    "# elastomultiester\n",
    "df_elastomultiester = df1.loc[df1[1].str.contains( 'Elastomultiester', na=True ), 1]\n",
    "df_elastomultiester.name = 'elastomultiester'\n",
    "df_ref = pd.concat( [df_ref, df_elastomultiester], axis=1 )\n",
    "df_ref = df_ref.iloc[:, ~df_ref.columns.duplicated( keep='last') ]\n",
    "#\n",
    "\n",
    "#\n",
    "## Droping  columns\n",
    "data = data.drop( columns=['Unnamed: 0', 'size'], axis=1 )"
   ]
  },
  {
   "cell_type": "code",
   "execution_count": 16,
   "id": "355d10fd",
   "metadata": {
    "ExecuteTime": {
     "end_time": "2022-04-19T13:33:23.383582Z",
     "start_time": "2022-04-19T13:33:23.375394Z"
    }
   },
   "outputs": [],
   "source": [
    "# final join\n",
    "data = pd.concat( [data, df_ref], axis=1 )"
   ]
  },
  {
   "cell_type": "code",
   "execution_count": 17,
   "id": "8f41ffb2",
   "metadata": {
    "ExecuteTime": {
     "end_time": "2022-04-19T13:33:24.451396Z",
     "start_time": "2022-04-19T13:33:24.424328Z"
    }
   },
   "outputs": [
    {
     "data": {
      "text/html": [
       "<div>\n",
       "<style scoped>\n",
       "    .dataframe tbody tr th:only-of-type {\n",
       "        vertical-align: middle;\n",
       "    }\n",
       "\n",
       "    .dataframe tbody tr th {\n",
       "        vertical-align: top;\n",
       "    }\n",
       "\n",
       "    .dataframe thead th {\n",
       "        text-align: right;\n",
       "    }\n",
       "</style>\n",
       "<table border=\"1\" class=\"dataframe\">\n",
       "  <thead>\n",
       "    <tr style=\"text-align: right;\">\n",
       "      <th></th>\n",
       "      <th>product_id</th>\n",
       "      <th>product_category</th>\n",
       "      <th>product_name</th>\n",
       "      <th>product_price</th>\n",
       "      <th>scrapy_datetime</th>\n",
       "      <th>style_id</th>\n",
       "      <th>color_id</th>\n",
       "      <th>color_name</th>\n",
       "      <th>fit</th>\n",
       "      <th>composition</th>\n",
       "      <th>size_number</th>\n",
       "      <th>size_model</th>\n",
       "      <th>cotton</th>\n",
       "      <th>spandex</th>\n",
       "      <th>elastomultiester</th>\n",
       "    </tr>\n",
       "  </thead>\n",
       "  <tbody>\n",
       "    <tr>\n",
       "      <th>0</th>\n",
       "      <td>1.024256e+09</td>\n",
       "      <td>men_jeans_slim</td>\n",
       "      <td>slim_jeans</td>\n",
       "      <td>19.99</td>\n",
       "      <td>2022-04-18 17:54:04</td>\n",
       "      <td>1024256.0</td>\n",
       "      <td>1.0</td>\n",
       "      <td>light_denim_blue</td>\n",
       "      <td>slim_fit</td>\n",
       "      <td>Shell: Cotton 99%, Spandex 1%</td>\n",
       "      <td>185.0</td>\n",
       "      <td>size 31/32</td>\n",
       "      <td>Shell: Cotton 99%</td>\n",
       "      <td>Spandex 1%</td>\n",
       "      <td>NaN</td>\n",
       "    </tr>\n",
       "    <tr>\n",
       "      <th>2</th>\n",
       "      <td>1.024256e+09</td>\n",
       "      <td>men_jeans_slim</td>\n",
       "      <td>slim_jeans</td>\n",
       "      <td>19.99</td>\n",
       "      <td>2022-04-18 17:54:04</td>\n",
       "      <td>1024256.0</td>\n",
       "      <td>1.0</td>\n",
       "      <td>light_denim_blue</td>\n",
       "      <td>slim_fit</td>\n",
       "      <td>Shell: Cotton 99%, Spandex 1%</td>\n",
       "      <td>185.0</td>\n",
       "      <td>size 31/32</td>\n",
       "      <td>Shell: Cotton 99%</td>\n",
       "      <td>Spandex 1%</td>\n",
       "      <td>NaN</td>\n",
       "    </tr>\n",
       "    <tr>\n",
       "      <th>4</th>\n",
       "      <td>1.024256e+09</td>\n",
       "      <td>men_jeans_slim</td>\n",
       "      <td>slim_jeans</td>\n",
       "      <td>19.99</td>\n",
       "      <td>2022-04-18 17:54:04</td>\n",
       "      <td>1024256.0</td>\n",
       "      <td>1.0</td>\n",
       "      <td>denim_blue</td>\n",
       "      <td>slim_fit</td>\n",
       "      <td>Shell: Cotton 99%, Spandex 1%</td>\n",
       "      <td>185.0</td>\n",
       "      <td>size 31/32</td>\n",
       "      <td>Shell: Cotton 99%</td>\n",
       "      <td>Spandex 1%</td>\n",
       "      <td>NaN</td>\n",
       "    </tr>\n",
       "    <tr>\n",
       "      <th>6</th>\n",
       "      <td>1.024256e+09</td>\n",
       "      <td>men_jeans_slim</td>\n",
       "      <td>slim_jeans</td>\n",
       "      <td>19.99</td>\n",
       "      <td>2022-04-18 17:54:04</td>\n",
       "      <td>1024256.0</td>\n",
       "      <td>1.0</td>\n",
       "      <td>dark_blue</td>\n",
       "      <td>slim_fit</td>\n",
       "      <td>Shell: Cotton 99%, Spandex 1%</td>\n",
       "      <td>185.0</td>\n",
       "      <td>size 31/32</td>\n",
       "      <td>Shell: Cotton 99%</td>\n",
       "      <td>Spandex 1%</td>\n",
       "      <td>NaN</td>\n",
       "    </tr>\n",
       "    <tr>\n",
       "      <th>8</th>\n",
       "      <td>1.024256e+09</td>\n",
       "      <td>men_jeans_slim</td>\n",
       "      <td>slim_jeans</td>\n",
       "      <td>19.99</td>\n",
       "      <td>2022-04-18 17:54:04</td>\n",
       "      <td>1024256.0</td>\n",
       "      <td>1.0</td>\n",
       "      <td>dark_denim_blue</td>\n",
       "      <td>slim_fit</td>\n",
       "      <td>Shell: Cotton 99%, Spandex 1%</td>\n",
       "      <td>185.0</td>\n",
       "      <td>size 31/32</td>\n",
       "      <td>Shell: Cotton 99%</td>\n",
       "      <td>Spandex 1%</td>\n",
       "      <td>NaN</td>\n",
       "    </tr>\n",
       "  </tbody>\n",
       "</table>\n",
       "</div>"
      ],
      "text/plain": [
       "     product_id product_category product_name  product_price     scrapy_datetime   style_id  color_id        color_name       fit                    composition  size_number  size_model             cotton      spandex elastomultiester\n",
       "0  1.024256e+09   men_jeans_slim   slim_jeans          19.99 2022-04-18 17:54:04  1024256.0       1.0  light_denim_blue  slim_fit  Shell: Cotton 99%, Spandex 1%        185.0  size 31/32  Shell: Cotton 99%   Spandex 1%              NaN\n",
       "2  1.024256e+09   men_jeans_slim   slim_jeans          19.99 2022-04-18 17:54:04  1024256.0       1.0  light_denim_blue  slim_fit  Shell: Cotton 99%, Spandex 1%        185.0  size 31/32  Shell: Cotton 99%   Spandex 1%              NaN\n",
       "4  1.024256e+09   men_jeans_slim   slim_jeans          19.99 2022-04-18 17:54:04  1024256.0       1.0        denim_blue  slim_fit  Shell: Cotton 99%, Spandex 1%        185.0  size 31/32  Shell: Cotton 99%   Spandex 1%              NaN\n",
       "6  1.024256e+09   men_jeans_slim   slim_jeans          19.99 2022-04-18 17:54:04  1024256.0       1.0         dark_blue  slim_fit  Shell: Cotton 99%, Spandex 1%        185.0  size 31/32  Shell: Cotton 99%   Spandex 1%              NaN\n",
       "8  1.024256e+09   men_jeans_slim   slim_jeans          19.99 2022-04-18 17:54:04  1024256.0       1.0   dark_denim_blue  slim_fit  Shell: Cotton 99%, Spandex 1%        185.0  size 31/32  Shell: Cotton 99%   Spandex 1%              NaN"
      ]
     },
     "execution_count": 17,
     "metadata": {},
     "output_type": "execute_result"
    }
   ],
   "source": [
    "data.head()"
   ]
  },
  {
   "cell_type": "code",
   "execution_count": 18,
   "id": "22bd83f5",
   "metadata": {
    "ExecuteTime": {
     "end_time": "2022-04-19T13:33:27.109105Z",
     "start_time": "2022-04-19T13:33:27.099939Z"
    }
   },
   "outputs": [
    {
     "data": {
      "text/plain": [
       "(1593, 15)"
      ]
     },
     "execution_count": 18,
     "metadata": {},
     "output_type": "execute_result"
    }
   ],
   "source": [
    "data.shape"
   ]
  },
  {
   "cell_type": "code",
   "execution_count": 19,
   "id": "e242c730",
   "metadata": {
    "ExecuteTime": {
     "end_time": "2022-04-19T13:33:49.581586Z",
     "start_time": "2022-04-19T13:33:49.559012Z"
    }
   },
   "outputs": [],
   "source": [
    "#format composition data\n",
    "data['cotton'] = data['cotton'].apply( lambda x: int( re.search( '\\d+', x ).group(0) ) /100 if pd.notnull( x ) else x )\n",
    "data['spandex'] = data['spandex'].apply( lambda x: int( re.search( '\\d+', x ).group(0) ) /100 if pd.notnull( x ) else x )\n",
    "data['elastomultiester'] = data['elastomultiester'].apply( lambda x: int( re.search( '\\d+', x).group(0) ) /100 if pd.notnull( x ) else x )"
   ]
  },
  {
   "cell_type": "code",
   "execution_count": 20,
   "id": "9c9d24bb",
   "metadata": {
    "ExecuteTime": {
     "end_time": "2022-04-19T13:33:50.405041Z",
     "start_time": "2022-04-19T13:33:50.394742Z"
    }
   },
   "outputs": [],
   "source": [
    "#Cleaning dataframe\n",
    "data = data.dropna( subset=['product_id'] )\n",
    "data['product_id'] = data['product_id'].astype( int )"
   ]
  },
  {
   "cell_type": "code",
   "execution_count": 21,
   "id": "567b2e32",
   "metadata": {
    "ExecuteTime": {
     "end_time": "2022-04-19T13:33:51.283997Z",
     "start_time": "2022-04-19T13:33:51.270085Z"
    }
   },
   "outputs": [
    {
     "data": {
      "text/plain": [
       "product_id           404\n",
       "product_category     404\n",
       "product_name         404\n",
       "product_price        404\n",
       "scrapy_datetime      404\n",
       "style_id             404\n",
       "color_id             404\n",
       "color_name           404\n",
       "fit                  678\n",
       "composition          678\n",
       "size_number          678\n",
       "size_model           678\n",
       "cotton               678\n",
       "spandex              777\n",
       "elastomultiester    1589\n",
       "dtype: int64"
      ]
     },
     "execution_count": 21,
     "metadata": {},
     "output_type": "execute_result"
    }
   ],
   "source": [
    "data.isna().sum()"
   ]
  },
  {
   "cell_type": "code",
   "execution_count": 22,
   "id": "b061195d",
   "metadata": {
    "ExecuteTime": {
     "end_time": "2022-04-19T13:33:53.224801Z",
     "start_time": "2022-04-19T13:33:53.194579Z"
    }
   },
   "outputs": [
    {
     "data": {
      "text/html": [
       "<div>\n",
       "<style scoped>\n",
       "    .dataframe tbody tr th:only-of-type {\n",
       "        vertical-align: middle;\n",
       "    }\n",
       "\n",
       "    .dataframe tbody tr th {\n",
       "        vertical-align: top;\n",
       "    }\n",
       "\n",
       "    .dataframe thead th {\n",
       "        text-align: right;\n",
       "    }\n",
       "</style>\n",
       "<table border=\"1\" class=\"dataframe\">\n",
       "  <thead>\n",
       "    <tr style=\"text-align: right;\">\n",
       "      <th></th>\n",
       "      <th>product_id</th>\n",
       "      <th>product_category</th>\n",
       "      <th>product_name</th>\n",
       "      <th>product_price</th>\n",
       "      <th>scrapy_datetime</th>\n",
       "      <th>style_id</th>\n",
       "      <th>color_id</th>\n",
       "      <th>color_name</th>\n",
       "      <th>fit</th>\n",
       "      <th>composition</th>\n",
       "      <th>size_number</th>\n",
       "      <th>size_model</th>\n",
       "      <th>cotton</th>\n",
       "      <th>spandex</th>\n",
       "      <th>elastomultiester</th>\n",
       "    </tr>\n",
       "  </thead>\n",
       "  <tbody>\n",
       "    <tr>\n",
       "      <th>0</th>\n",
       "      <td>1.024256e+09</td>\n",
       "      <td>men_jeans_slim</td>\n",
       "      <td>slim_jeans</td>\n",
       "      <td>19.99</td>\n",
       "      <td>2022-04-18 17:54:04</td>\n",
       "      <td>1024256.0</td>\n",
       "      <td>1.0</td>\n",
       "      <td>light_denim_blue</td>\n",
       "      <td>slim_fit</td>\n",
       "      <td>Shell: Cotton 99%, Spandex 1%</td>\n",
       "      <td>185.0</td>\n",
       "      <td>size 31/32</td>\n",
       "      <td>0.99</td>\n",
       "      <td>0.01</td>\n",
       "      <td>NaN</td>\n",
       "    </tr>\n",
       "    <tr>\n",
       "      <th>2</th>\n",
       "      <td>1.024256e+09</td>\n",
       "      <td>men_jeans_slim</td>\n",
       "      <td>slim_jeans</td>\n",
       "      <td>19.99</td>\n",
       "      <td>2022-04-18 17:54:04</td>\n",
       "      <td>1024256.0</td>\n",
       "      <td>1.0</td>\n",
       "      <td>light_denim_blue</td>\n",
       "      <td>slim_fit</td>\n",
       "      <td>Shell: Cotton 99%, Spandex 1%</td>\n",
       "      <td>185.0</td>\n",
       "      <td>size 31/32</td>\n",
       "      <td>0.99</td>\n",
       "      <td>0.01</td>\n",
       "      <td>NaN</td>\n",
       "    </tr>\n",
       "    <tr>\n",
       "      <th>4</th>\n",
       "      <td>1.024256e+09</td>\n",
       "      <td>men_jeans_slim</td>\n",
       "      <td>slim_jeans</td>\n",
       "      <td>19.99</td>\n",
       "      <td>2022-04-18 17:54:04</td>\n",
       "      <td>1024256.0</td>\n",
       "      <td>1.0</td>\n",
       "      <td>denim_blue</td>\n",
       "      <td>slim_fit</td>\n",
       "      <td>Shell: Cotton 99%, Spandex 1%</td>\n",
       "      <td>185.0</td>\n",
       "      <td>size 31/32</td>\n",
       "      <td>0.99</td>\n",
       "      <td>0.01</td>\n",
       "      <td>NaN</td>\n",
       "    </tr>\n",
       "    <tr>\n",
       "      <th>6</th>\n",
       "      <td>1.024256e+09</td>\n",
       "      <td>men_jeans_slim</td>\n",
       "      <td>slim_jeans</td>\n",
       "      <td>19.99</td>\n",
       "      <td>2022-04-18 17:54:04</td>\n",
       "      <td>1024256.0</td>\n",
       "      <td>1.0</td>\n",
       "      <td>dark_blue</td>\n",
       "      <td>slim_fit</td>\n",
       "      <td>Shell: Cotton 99%, Spandex 1%</td>\n",
       "      <td>185.0</td>\n",
       "      <td>size 31/32</td>\n",
       "      <td>0.99</td>\n",
       "      <td>0.01</td>\n",
       "      <td>NaN</td>\n",
       "    </tr>\n",
       "    <tr>\n",
       "      <th>8</th>\n",
       "      <td>1.024256e+09</td>\n",
       "      <td>men_jeans_slim</td>\n",
       "      <td>slim_jeans</td>\n",
       "      <td>19.99</td>\n",
       "      <td>2022-04-18 17:54:04</td>\n",
       "      <td>1024256.0</td>\n",
       "      <td>1.0</td>\n",
       "      <td>dark_denim_blue</td>\n",
       "      <td>slim_fit</td>\n",
       "      <td>Shell: Cotton 99%, Spandex 1%</td>\n",
       "      <td>185.0</td>\n",
       "      <td>size 31/32</td>\n",
       "      <td>0.99</td>\n",
       "      <td>0.01</td>\n",
       "      <td>NaN</td>\n",
       "    </tr>\n",
       "  </tbody>\n",
       "</table>\n",
       "</div>"
      ],
      "text/plain": [
       "     product_id product_category product_name  product_price     scrapy_datetime   style_id  color_id        color_name       fit                    composition  size_number  size_model  cotton  spandex  elastomultiester\n",
       "0  1.024256e+09   men_jeans_slim   slim_jeans          19.99 2022-04-18 17:54:04  1024256.0       1.0  light_denim_blue  slim_fit  Shell: Cotton 99%, Spandex 1%        185.0  size 31/32    0.99     0.01               NaN\n",
       "2  1.024256e+09   men_jeans_slim   slim_jeans          19.99 2022-04-18 17:54:04  1024256.0       1.0  light_denim_blue  slim_fit  Shell: Cotton 99%, Spandex 1%        185.0  size 31/32    0.99     0.01               NaN\n",
       "4  1.024256e+09   men_jeans_slim   slim_jeans          19.99 2022-04-18 17:54:04  1024256.0       1.0        denim_blue  slim_fit  Shell: Cotton 99%, Spandex 1%        185.0  size 31/32    0.99     0.01               NaN\n",
       "6  1.024256e+09   men_jeans_slim   slim_jeans          19.99 2022-04-18 17:54:04  1024256.0       1.0         dark_blue  slim_fit  Shell: Cotton 99%, Spandex 1%        185.0  size 31/32    0.99     0.01               NaN\n",
       "8  1.024256e+09   men_jeans_slim   slim_jeans          19.99 2022-04-18 17:54:04  1024256.0       1.0   dark_denim_blue  slim_fit  Shell: Cotton 99%, Spandex 1%        185.0  size 31/32    0.99     0.01               NaN"
      ]
     },
     "execution_count": 22,
     "metadata": {},
     "output_type": "execute_result"
    }
   ],
   "source": [
    "data.head()"
   ]
  },
  {
   "cell_type": "code",
   "execution_count": 23,
   "id": "d6de4234",
   "metadata": {
    "ExecuteTime": {
     "end_time": "2022-04-19T13:33:58.280816Z",
     "start_time": "2022-04-19T13:33:58.276304Z"
    }
   },
   "outputs": [
    {
     "ename": "SyntaxError",
     "evalue": "invalid syntax (2104124353.py, line 1)",
     "output_type": "error",
     "traceback": [
      "\u001b[0;36m  Input \u001b[0;32mIn [23]\u001b[0;36m\u001b[0m\n\u001b[0;31m    Continuar no proximo ciclo!\u001b[0m\n\u001b[0m              ^\u001b[0m\n\u001b[0;31mSyntaxError\u001b[0m\u001b[0;31m:\u001b[0m invalid syntax\n"
     ]
    }
   ],
   "source": [
    "Continuar no proximo ciclo!"
   ]
  },
  {
   "cell_type": "code",
   "execution_count": null,
   "id": "2c401e21",
   "metadata": {},
   "outputs": [],
   "source": []
  },
  {
   "cell_type": "code",
   "execution_count": null,
   "id": "1c96db52",
   "metadata": {},
   "outputs": [],
   "source": []
  }
 ],
 "metadata": {
  "hide_input": false,
  "kernelspec": {
   "display_name": "Python 3 (ipykernel)",
   "language": "python",
   "name": "python3"
  },
  "language_info": {
   "codemirror_mode": {
    "name": "ipython",
    "version": 3
   },
   "file_extension": ".py",
   "mimetype": "text/x-python",
   "name": "python",
   "nbconvert_exporter": "python",
   "pygments_lexer": "ipython3",
   "version": "3.8.10"
  },
  "nbTranslate": {
   "displayLangs": [
    "*"
   ],
   "hotkey": "alt-t",
   "langInMainMenu": true,
   "sourceLang": "en",
   "targetLang": "fr",
   "useGoogleTranslate": true
  }
 },
 "nbformat": 4,
 "nbformat_minor": 5
}
